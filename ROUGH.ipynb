{
 "cells": [
  {
   "cell_type": "code",
   "execution_count": 4,
   "metadata": {},
   "outputs": [],
   "source": [
    "i1=.05     \n",
    "i2=.10\n",
    "\n",
    "y1=.01  #True Value\n",
    "y2=.99  #True Value\n",
    "\n",
    "w1=.15  \n",
    "w2=.20\n",
    "w3=.25\n",
    "w4=.30\n",
    "w5=.40\n",
    "w6=.45\n",
    "w7=.50\n",
    "w8=.55\n",
    "b1=.35\n",
    "b2=.60\n",
    "\n",
    "weight_array=[]"
   ]
  },
  {
   "cell_type": "code",
   "execution_count": 5,
   "metadata": {},
   "outputs": [],
   "source": [
    "import math"
   ]
  },
  {
   "cell_type": "code",
   "execution_count": 6,
   "metadata": {},
   "outputs": [
    {
     "data": {
      "text/plain": [
       "0.3775"
      ]
     },
     "execution_count": 6,
     "metadata": {},
     "output_type": "execute_result"
    }
   ],
   "source": [
    "net_h1=w1*i1+w2*i2+b1\n",
    "net_h1"
   ]
  },
  {
   "cell_type": "code",
   "execution_count": 7,
   "metadata": {},
   "outputs": [
    {
     "data": {
      "text/plain": [
       "0.5932699921071872"
      ]
     },
     "execution_count": 7,
     "metadata": {},
     "output_type": "execute_result"
    }
   ],
   "source": [
    "out_h1=1/(1+math.exp(-net_h1))\n",
    "out_h1"
   ]
  },
  {
   "cell_type": "code",
   "execution_count": 8,
   "metadata": {},
   "outputs": [
    {
     "data": {
      "text/plain": [
       "0.39249999999999996"
      ]
     },
     "execution_count": 8,
     "metadata": {},
     "output_type": "execute_result"
    }
   ],
   "source": [
    "net_h2=w3*i1+w4*i2+b1\n",
    "net_h2"
   ]
  },
  {
   "cell_type": "code",
   "execution_count": 13,
   "metadata": {},
   "outputs": [
    {
     "data": {
      "text/plain": [
       "0.596884378259767"
      ]
     },
     "execution_count": 13,
     "metadata": {},
     "output_type": "execute_result"
    }
   ],
   "source": [
    "out_h2=1/(1+math.exp(-net_h2))\n",
    "out_h2"
   ]
  },
  {
   "cell_type": "code",
   "execution_count": 14,
   "metadata": {},
   "outputs": [
    {
     "data": {
      "text/plain": [
       "1.10590596705977"
      ]
     },
     "execution_count": 14,
     "metadata": {},
     "output_type": "execute_result"
    }
   ],
   "source": [
    "net_o1=w5*out_h1+w6*out_h2+b2\n",
    "net_o1"
   ]
  },
  {
   "cell_type": "code",
   "execution_count": 15,
   "metadata": {},
   "outputs": [
    {
     "data": {
      "text/plain": [
       "0.7513650695523157"
      ]
     },
     "execution_count": 15,
     "metadata": {},
     "output_type": "execute_result"
    }
   ],
   "source": [
    "out_o1=1/(1+math.exp(-net_o1))\n",
    "out_o1"
   ]
  },
  {
   "cell_type": "code",
   "execution_count": 16,
   "metadata": {},
   "outputs": [
    {
     "data": {
      "text/plain": [
       "1.2249214040964653"
      ]
     },
     "execution_count": 16,
     "metadata": {},
     "output_type": "execute_result"
    }
   ],
   "source": [
    "net_o2=w7*out_h1+w8*out_h2+b2\n",
    "net_o2"
   ]
  },
  {
   "cell_type": "code",
   "execution_count": 17,
   "metadata": {},
   "outputs": [
    {
     "data": {
      "text/plain": [
       "0.7729284653214625"
      ]
     },
     "execution_count": 17,
     "metadata": {},
     "output_type": "execute_result"
    }
   ],
   "source": [
    "out_o2=1/(1+math.exp(-net_o2))\n",
    "out_o2"
   ]
  },
  {
   "cell_type": "code",
   "execution_count": 18,
   "metadata": {},
   "outputs": [
    {
     "data": {
      "text/plain": [
       "0.274811083176155"
      ]
     },
     "execution_count": 18,
     "metadata": {},
     "output_type": "execute_result"
    }
   ],
   "source": [
    "E_o1=((y1-out_o1)**2)/2\n",
    "E_o1"
   ]
  },
  {
   "cell_type": "code",
   "execution_count": 19,
   "metadata": {},
   "outputs": [
    {
     "data": {
      "text/plain": [
       "0.023560025583847746"
      ]
     },
     "execution_count": 19,
     "metadata": {},
     "output_type": "execute_result"
    }
   ],
   "source": [
    "E_o2=((y2-out_o2)**2)/2\n",
    "E_o2"
   ]
  },
  {
   "cell_type": "code",
   "execution_count": 20,
   "metadata": {},
   "outputs": [
    {
     "data": {
      "text/plain": [
       "0.2983711087600027"
      ]
     },
     "execution_count": 20,
     "metadata": {},
     "output_type": "execute_result"
    }
   ],
   "source": [
    "Total_Error=E_o1+E_o2\n",
    "Total_Error"
   ]
  },
  {
   "cell_type": "code",
   "execution_count": 21,
   "metadata": {},
   "outputs": [
    {
     "data": {
      "text/plain": [
       "0.7413650695523157"
      ]
     },
     "execution_count": 21,
     "metadata": {},
     "output_type": "execute_result"
    }
   ],
   "source": [
    "del_E_to_del_out_o1=((2*(y1-out_o1))/2)*-1\n",
    "del_E_to_del_out_o1"
   ]
  },
  {
   "cell_type": "code",
   "execution_count": 22,
   "metadata": {},
   "outputs": [
    {
     "data": {
      "text/plain": [
       "0.18681560180895948"
      ]
     },
     "execution_count": 22,
     "metadata": {},
     "output_type": "execute_result"
    }
   ],
   "source": [
    "del_o1_to_del_net_o1=out_o1*(1-out_o1)\n",
    "del_o1_to_del_net_o1"
   ]
  },
  {
   "cell_type": "code",
   "execution_count": 23,
   "metadata": {},
   "outputs": [
    {
     "data": {
      "text/plain": [
       "0.5932699921071872"
      ]
     },
     "execution_count": 23,
     "metadata": {},
     "output_type": "execute_result"
    }
   ],
   "source": [
    "del_net_o1_to_del_w5=out_h1\n",
    "del_net_o1_to_del_w5"
   ]
  },
  {
   "cell_type": "code",
   "execution_count": 24,
   "metadata": {},
   "outputs": [
    {
     "data": {
      "text/plain": [
       "0.08216704056423078"
      ]
     },
     "execution_count": 24,
     "metadata": {},
     "output_type": "execute_result"
    }
   ],
   "source": [
    "del_E_to_del_w5=del_E_to_del_out_o1*del_o1_to_del_net_o1*del_net_o1_to_del_w5\n",
    "del_E_to_del_w5"
   ]
  },
  {
   "cell_type": "code",
   "execution_count": 25,
   "metadata": {},
   "outputs": [
    {
     "data": {
      "text/plain": [
       "0.7629284653214625"
      ]
     },
     "execution_count": 25,
     "metadata": {},
     "output_type": "execute_result"
    }
   ],
   "source": [
    "del_E_to_del_out_o2=((2*(y1-out_o2))/2)*-1\n",
    "del_E_to_del_out_o2"
   ]
  },
  {
   "cell_type": "code",
   "execution_count": 26,
   "metadata": {},
   "outputs": [
    {
     "data": {
      "text/plain": [
       "0.18681560180895948"
      ]
     },
     "execution_count": 26,
     "metadata": {},
     "output_type": "execute_result"
    }
   ],
   "source": [
    "del_o2_to_del_net_o2=out_o1*(1-out_o1)\n",
    "del_o2_to_del_net_o2"
   ]
  },
  {
   "cell_type": "code",
   "execution_count": 27,
   "metadata": {},
   "outputs": [
    {
     "data": {
      "text/plain": [
       "0.5932699921071872"
      ]
     },
     "execution_count": 27,
     "metadata": {},
     "output_type": "execute_result"
    }
   ],
   "source": [
    "del_net_o2_to_del_w5=out_h1\n",
    "del_net_o2_to_del_w5"
   ]
  },
  {
   "cell_type": "code",
   "execution_count": 28,
   "metadata": {},
   "outputs": [
    {
     "data": {
      "text/plain": [
       "0.08216704056423078"
      ]
     },
     "execution_count": 28,
     "metadata": {},
     "output_type": "execute_result"
    }
   ],
   "source": [
    "del_E_to_del_w6=del_E_to_del_out_o1*del_o1_to_del_net_o1*del_net_o1_to_del_w5\n",
    "del_E_to_del_w5"
   ]
  },
  {
   "cell_type": "code",
   "execution_count": 29,
   "metadata": {},
   "outputs": [],
   "source": [
    "i1=.05\n",
    "i2=.10\n",
    "\n",
    "y1=.01\n",
    "y2=.99\n",
    "\n",
    "w1=.15\n",
    "w2=.20\n",
    "w3=.25\n",
    "w4=.30\n",
    "w5=.40\n",
    "w6=.45\n",
    "w7=.50\n",
    "w8=.55\n",
    "\n",
    "b1=.35\n",
    "b2=.60"
   ]
  },
  {
   "cell_type": "code",
   "execution_count": 30,
   "metadata": {},
   "outputs": [],
   "source": [
    "# Forward propagation\n",
    "\n",
    "def forwardprop():\n",
    "    h1_input=w1*i1+w2*i2+b1\n",
    "    h2_input=w2*i1+w4*i2+b1\n",
    "\n",
    "    h1_output=1/(1+math.exp(-h1_input))\n",
    "    h2_output=1/(1+math.exp(-h2_input))\n",
    "\n",
    "    o1_input=w5*h1_output+w6*h2_output+b2\n",
    "    o2_input=w7*h1_output+w8*h2_output+b2\n",
    "\n",
    "    o1_output=1/(1+math.exp(-o1_input))\n",
    "    o2_output=1/(1+math.exp(-o2_input))\n",
    "\n",
    "    error=(((y1-o1_output)**2+(y2-o2_output)**2))/2\n",
    "    return error"
   ]
  },
  {
   "cell_type": "code",
   "execution_count": 31,
   "metadata": {},
   "outputs": [
    {
     "data": {
      "text/plain": [
       "0.29834621866015415"
      ]
     },
     "execution_count": 31,
     "metadata": {},
     "output_type": "execute_result"
    }
   ],
   "source": [
    "forwardprop()"
   ]
  },
  {
   "cell_type": "code",
   "execution_count": 32,
   "metadata": {},
   "outputs": [
    {
     "ename": "NameError",
     "evalue": "name 'o1_output' is not defined",
     "output_type": "error",
     "traceback": [
      "\u001b[0;31m---------------------------------------------------------------------------\u001b[0m",
      "\u001b[0;31mNameError\u001b[0m                                 Traceback (most recent call last)",
      "\u001b[0;32m<ipython-input-32-fd7c0d5611cc>\u001b[0m in \u001b[0;36m<module>\u001b[0;34m\u001b[0m\n\u001b[0;32m----> 1\u001b[0;31m \u001b[0mdelError_to_w5\u001b[0m\u001b[0;34m=\u001b[0m\u001b[0;34m(\u001b[0m\u001b[0;34m(\u001b[0m\u001b[0my1\u001b[0m\u001b[0;34m-\u001b[0m\u001b[0mo1_output\u001b[0m\u001b[0;34m)\u001b[0m\u001b[0;34m*\u001b[0m\u001b[0;34m-\u001b[0m\u001b[0;36m1\u001b[0m\u001b[0;34m)\u001b[0m\u001b[0;34m*\u001b[0m\u001b[0mo1_output\u001b[0m\u001b[0;34m*\u001b[0m\u001b[0;34m(\u001b[0m\u001b[0;36m1\u001b[0m\u001b[0;34m-\u001b[0m\u001b[0mo1_output\u001b[0m\u001b[0;34m)\u001b[0m\u001b[0;34m*\u001b[0m\u001b[0mh1_output\u001b[0m\u001b[0;34m\u001b[0m\u001b[0;34m\u001b[0m\u001b[0m\n\u001b[0m\u001b[1;32m      2\u001b[0m \u001b[0mdelError_to_w5\u001b[0m\u001b[0;34m\u001b[0m\u001b[0;34m\u001b[0m\u001b[0m\n",
      "\u001b[0;31mNameError\u001b[0m: name 'o1_output' is not defined"
     ]
    }
   ],
   "source": [
    "delError_to_w5=((y1-o1_output)*-1)*o1_output*(1-o1_output)*h1_output\n",
    "delError_to_w5"
   ]
  },
  {
   "cell_type": "code",
   "execution_count": 33,
   "metadata": {},
   "outputs": [
    {
     "ename": "NameError",
     "evalue": "name 'o1_output' is not defined",
     "output_type": "error",
     "traceback": [
      "\u001b[0;31m---------------------------------------------------------------------------\u001b[0m",
      "\u001b[0;31mNameError\u001b[0m                                 Traceback (most recent call last)",
      "\u001b[0;32m<ipython-input-33-75a67e1a8178>\u001b[0m in \u001b[0;36m<module>\u001b[0;34m\u001b[0m\n\u001b[0;32m----> 1\u001b[0;31m \u001b[0mdelError_to_w6\u001b[0m\u001b[0;34m=\u001b[0m\u001b[0;34m(\u001b[0m\u001b[0;34m(\u001b[0m\u001b[0my1\u001b[0m\u001b[0;34m-\u001b[0m\u001b[0mo1_output\u001b[0m\u001b[0;34m)\u001b[0m\u001b[0;34m*\u001b[0m\u001b[0;34m-\u001b[0m\u001b[0;36m1\u001b[0m\u001b[0;34m)\u001b[0m\u001b[0;34m*\u001b[0m\u001b[0mo1_output\u001b[0m\u001b[0;34m*\u001b[0m\u001b[0;34m(\u001b[0m\u001b[0;36m1\u001b[0m\u001b[0;34m-\u001b[0m\u001b[0mo1_output\u001b[0m\u001b[0;34m)\u001b[0m\u001b[0;34m*\u001b[0m\u001b[0mh2_output\u001b[0m\u001b[0;34m\u001b[0m\u001b[0;34m\u001b[0m\u001b[0m\n\u001b[0m\u001b[1;32m      2\u001b[0m \u001b[0mdelError_to_w6\u001b[0m\u001b[0;34m\u001b[0m\u001b[0;34m\u001b[0m\u001b[0m\n",
      "\u001b[0;31mNameError\u001b[0m: name 'o1_output' is not defined"
     ]
    }
   ],
   "source": [
    "delError_to_w6=((y1-o1_output)*-1)*o1_output*(1-o1_output)*h2_output\n",
    "delError_to_w6"
   ]
  },
  {
   "cell_type": "code",
   "execution_count": 34,
   "metadata": {},
   "outputs": [
    {
     "ename": "NameError",
     "evalue": "name 'o2_output' is not defined",
     "output_type": "error",
     "traceback": [
      "\u001b[0;31m---------------------------------------------------------------------------\u001b[0m",
      "\u001b[0;31mNameError\u001b[0m                                 Traceback (most recent call last)",
      "\u001b[0;32m<ipython-input-34-c0e81e142632>\u001b[0m in \u001b[0;36m<module>\u001b[0;34m\u001b[0m\n\u001b[0;32m----> 1\u001b[0;31m \u001b[0mdelError_to_w7\u001b[0m\u001b[0;34m=\u001b[0m\u001b[0;34m(\u001b[0m\u001b[0;34m(\u001b[0m\u001b[0my2\u001b[0m\u001b[0;34m-\u001b[0m\u001b[0mo2_output\u001b[0m\u001b[0;34m)\u001b[0m\u001b[0;34m*\u001b[0m\u001b[0;34m-\u001b[0m\u001b[0;36m1\u001b[0m\u001b[0;34m)\u001b[0m\u001b[0;34m*\u001b[0m\u001b[0mo2_output\u001b[0m\u001b[0;34m*\u001b[0m\u001b[0;34m(\u001b[0m\u001b[0;36m1\u001b[0m\u001b[0;34m-\u001b[0m\u001b[0mo2_output\u001b[0m\u001b[0;34m)\u001b[0m\u001b[0;34m*\u001b[0m\u001b[0mh1_output\u001b[0m\u001b[0;34m\u001b[0m\u001b[0;34m\u001b[0m\u001b[0m\n\u001b[0m\u001b[1;32m      2\u001b[0m \u001b[0mdelError_to_w7\u001b[0m\u001b[0;34m\u001b[0m\u001b[0;34m\u001b[0m\u001b[0m\n",
      "\u001b[0;31mNameError\u001b[0m: name 'o2_output' is not defined"
     ]
    }
   ],
   "source": [
    "delError_to_w7=((y2-o2_output)*-1)*o2_output*(1-o2_output)*h1_output\n",
    "delError_to_w7"
   ]
  },
  {
   "cell_type": "code",
   "execution_count": 35,
   "metadata": {},
   "outputs": [
    {
     "ename": "NameError",
     "evalue": "name 'o2_output' is not defined",
     "output_type": "error",
     "traceback": [
      "\u001b[0;31m---------------------------------------------------------------------------\u001b[0m",
      "\u001b[0;31mNameError\u001b[0m                                 Traceback (most recent call last)",
      "\u001b[0;32m<ipython-input-35-700cf110af20>\u001b[0m in \u001b[0;36m<module>\u001b[0;34m\u001b[0m\n\u001b[0;32m----> 1\u001b[0;31m \u001b[0mdelError_to_w8\u001b[0m\u001b[0;34m=\u001b[0m\u001b[0;34m(\u001b[0m\u001b[0;34m(\u001b[0m\u001b[0my2\u001b[0m\u001b[0;34m-\u001b[0m\u001b[0mo2_output\u001b[0m\u001b[0;34m)\u001b[0m\u001b[0;34m*\u001b[0m\u001b[0;34m-\u001b[0m\u001b[0;36m1\u001b[0m\u001b[0;34m)\u001b[0m\u001b[0;34m*\u001b[0m\u001b[0mo2_output\u001b[0m\u001b[0;34m*\u001b[0m\u001b[0;34m(\u001b[0m\u001b[0;36m1\u001b[0m\u001b[0;34m-\u001b[0m\u001b[0mo2_output\u001b[0m\u001b[0;34m)\u001b[0m\u001b[0;34m*\u001b[0m\u001b[0mh2_output\u001b[0m\u001b[0;34m\u001b[0m\u001b[0;34m\u001b[0m\u001b[0m\n\u001b[0m\u001b[1;32m      2\u001b[0m \u001b[0mdelError_to_w8\u001b[0m\u001b[0;34m\u001b[0m\u001b[0;34m\u001b[0m\u001b[0m\n",
      "\u001b[0;31mNameError\u001b[0m: name 'o2_output' is not defined"
     ]
    }
   ],
   "source": [
    "delError_to_w8=((y2-o2_output)*-1)*o2_output*(1-o2_output)*h2_output\n",
    "delError_to_w8"
   ]
  },
  {
   "cell_type": "code",
   "execution_count": 89,
   "metadata": {},
   "outputs": [
    {
     "data": {
      "text/plain": [
       "0.00043851007428498694"
      ]
     },
     "execution_count": 89,
     "metadata": {},
     "output_type": "execute_result"
    }
   ],
   "source": [
    "delError_to_w1=(((y1-o1_output)*-1)*o1_output*(1-o1_output)*w5*h1_output*(1-h1_output)*i1)+(((y2-o2_output)*-1)*o2_output*(1-o2_output)*w7*h1_output*(1-h1_output)*i1)\n",
    "delError_to_w1"
   ]
  },
  {
   "cell_type": "code",
   "execution_count": 90,
   "metadata": {},
   "outputs": [
    {
     "data": {
      "text/plain": [
       "0.0008770201485699739"
      ]
     },
     "execution_count": 90,
     "metadata": {},
     "output_type": "execute_result"
    }
   ],
   "source": [
    "delError_to_w2=(((y1-o1_output)*-1)*o1_output*(1-o1_output)*w5*h1_output*(1-h1_output)*i2)+(((y2-o2_output)*-1)*o2_output*(1-o2_output)*w7*h1_output*(1-h1_output)*i2)\n",
    "delError_to_w2"
   ]
  },
  {
   "cell_type": "code",
   "execution_count": 91,
   "metadata": {},
   "outputs": [
    {
     "data": {
      "text/plain": [
       "0.0004374722881667241"
      ]
     },
     "execution_count": 91,
     "metadata": {},
     "output_type": "execute_result"
    }
   ],
   "source": [
    "delError_to_w3=(((y1-o1_output)*-1)*o1_output*(1-o1_output)*w5*h2_output*(1-h2_output)*i1)+(((y2-o2_output)*-1)*o2_output*(1-o2_output)*w7*h2_output*(1-h2_output)*i1)\n",
    "delError_to_w3"
   ]
  },
  {
   "cell_type": "code",
   "execution_count": 92,
   "metadata": {},
   "outputs": [
    {
     "data": {
      "text/plain": [
       "0.0008749445763334482"
      ]
     },
     "execution_count": 92,
     "metadata": {},
     "output_type": "execute_result"
    }
   ],
   "source": [
    "delError_to_w4=(((y1-o1_output)*-1)*o1_output*(1-o1_output)*w5*h2_output*(1-h2_output)*i2)+(((y2-o2_output)*-1)*o2_output*(1-o2_output)*w7*h2_output*(1-h2_output)*i2)\n",
    "delError_to_w4"
   ]
  },
  {
   "cell_type": "code",
   "execution_count": 95,
   "metadata": {},
   "outputs": [
    {
     "name": "stdout",
     "output_type": "stream",
     "text": [
      "0.3589136913269878 0.4087050493609688 0.5113063362568537 0.5613637513983276\n",
      "0.1497807449628575 0.199561489925715 0.24978126385591665 0.2995625277118333\n"
     ]
    }
   ],
   "source": [
    "w5_new=w5-.5*delError_to_w5\n",
    "w6_new=w6-.5*delError_to_w6\n",
    "w7_new=w7-.5*delError_to_w7\n",
    "w8_new=w8-.5*delError_to_w8\n",
    "print(w5_new,w6_new,w7_new,w8_new)\n",
    "\n",
    "w1_new=w1-.5*delError_to_w1\n",
    "w2_new=w2-.5*delError_to_w2\n",
    "w3_new=w3-.5*delError_to_w3\n",
    "w4_new=w4-.5*delError_to_w4\n",
    "print(w1_new,w2_new,w3_new,w4_new)\n"
   ]
  },
  {
   "cell_type": "code",
   "execution_count": 106,
   "metadata": {},
   "outputs": [],
   "source": [
    "# backpropagation\n",
    "\n",
    "def backprop():\n",
    "    delError_to_w5=((y1-o1_output)*-1)*o1_output*(1-o1_output)*h1_output\n",
    "    delError_to_w6=((y1-o1_output)*-1)*o1_output*(1-o1_output)*h2_output\n",
    "    delError_to_w7=((y2-o2_output)*-1)*o2_output*(1-o2_output)*h1_output\n",
    "    delError_to_w8=((y2-o2_output)*-1)*o2_output*(1-o2_output)*h2_output\n",
    "    delError_to_w1=(((y1-o1_output)*-1)*o1_output*(1-o1_output)*w5*h1_output*(1-h1_output)*i1)+(((y2-o2_output)*-1)*o2_output*(1-o2_output)*w7*h1_output*(1-h1_output)*i1)\n",
    "    delError_to_w2=(((y1-o1_output)*-1)*o1_output*(1-o1_output)*w5*h1_output*(1-h1_output)*i2)+(((y2-o2_output)*-1)*o2_output*(1-o2_output)*w7*h1_output*(1-h1_output)*i2)\n",
    "    delError_to_w3=(((y1-o1_output)*-1)*o1_output*(1-o1_output)*w5*h2_output*(1-h2_output)*i1)+(((y2-o2_output)*-1)*o2_output*(1-o2_output)*w7*h2_output*(1-h2_output)*i1)\n",
    "    delError_to_w4=(((y1-o1_output)*-1)*o1_output*(1-o1_output)*w5*h2_output*(1-h2_output)*i2)+(((y2-o2_output)*-1)*o2_output*(1-o2_output)*w7*h2_output*(1-h2_output)*i2)\n",
    "    return"
   ]
  },
  {
   "cell_type": "code",
   "execution_count": 99,
   "metadata": {},
   "outputs": [],
   "source": [
    "weight_array.append([w1,w2,w3,w4,w5,w6,w7,w8])\n",
    "\n",
    "w1=w1-.5*delError_to_w1\n",
    "w2=w2-.5*delError_to_w2\n",
    "w3=w3-.5*delError_to_w3\n",
    "w4=w4-.5*delError_to_w4\n",
    "w5=w5-.5*delError_to_w5\n",
    "w6=w6-.5*delError_to_w6\n",
    "w7=w7-.5*delError_to_w7\n",
    "w8=w8-.5*delError_to_w8"
   ]
  },
  {
   "cell_type": "code",
   "execution_count": 107,
   "metadata": {},
   "outputs": [],
   "source": [
    "def weightchange():\n",
    "    w1=w1-.5*delError_to_w1\n",
    "    w2=w2-.5*delError_to_w2\n",
    "    w3=w3-.5*delError_to_w3\n",
    "    w4=w4-.5*delError_to_w4\n",
    "    w5=w5-.5*delError_to_w5\n",
    "    w6=w6-.5*delError_to_w6\n",
    "    w7=w7-.5*delError_to_w7\n",
    "    w8=w8-.5*delError_to_w8\n",
    "    weight_array.append([w1,w2,w3,w4,w5,w6,w7,w8])\n",
    "    return weight_append\n",
    "    \n",
    "    "
   ]
  },
  {
   "cell_type": "code",
   "execution_count": 113,
   "metadata": {},
   "outputs": [],
   "source": [
    "for i in range(1):\n",
    "    h1_input=w1*i1+w2*i2+b1\n",
    "    h2_input=w2*i1+w4*i2+b1\n",
    "\n",
    "    h1_output=1/(1+math.exp(-h1_input))\n",
    "    h2_output=1/(1+math.exp(-h2_input))\n",
    "\n",
    "    o1_input=w5*h1_output+w6*h2_output+b2\n",
    "    o2_input=w7*h1_output+w8*h2_output+b2\n",
    "\n",
    "    o1_output=1/(1+math.exp(-o1_input))\n",
    "    o2_output=1/(1+math.exp(-o2_input))\n",
    "\n",
    "    error=(((y1-o1_output)**2+(y2-o2_output)**2))/2\n",
    "    \n",
    "    delError_to_w5=((y1-o1_output)*-1)*o1_output*(1-o1_output)*h1_output\n",
    "    delError_to_w6=((y1-o1_output)*-1)*o1_output*(1-o1_output)*h2_output\n",
    "    delError_to_w7=((y2-o2_output)*-1)*o2_output*(1-o2_output)*h1_output\n",
    "    delError_to_w8=((y2-o2_output)*-1)*o2_output*(1-o2_output)*h2_output\n",
    "    delError_to_w1=(((y1-o1_output)*-1)*o1_output*(1-o1_output)*w5*h1_output*(1-h1_output)*i1)+(((y2-o2_output)*-1)*o2_output*(1-o2_output)*w7*h1_output*(1-h1_output)*i1)\n",
    "    delError_to_w2=(((y1-o1_output)*-1)*o1_output*(1-o1_output)*w5*h1_output*(1-h1_output)*i2)+(((y2-o2_output)*-1)*o2_output*(1-o2_output)*w7*h1_output*(1-h1_output)*i2)\n",
    "    delError_to_w3=(((y1-o1_output)*-1)*o1_output*(1-o1_output)*w5*h2_output*(1-h2_output)*i1)+(((y2-o2_output)*-1)*o2_output*(1-o2_output)*w7*h2_output*(1-h2_output)*i1)\n",
    "    delError_to_w4=(((y1-o1_output)*-1)*o1_output*(1-o1_output)*w5*h2_output*(1-h2_output)*i2)+(((y2-o2_output)*-1)*o2_output*(1-o2_output)*w7*h2_output*(1-h2_output)*i2)\n",
    "\n",
    "    w1=w1-.5*delError_to_w1\n",
    "    w2=w2-.5*delError_to_w2\n",
    "    w3=w3-.5*delError_to_w3\n",
    "    w4=w4-.5*delError_to_w4\n",
    "    w5=w5-.5*delError_to_w5\n",
    "    w6=w6-.5*delError_to_w6\n",
    "    w7=w7-.5*delError_to_w7\n",
    "    w8=w8-.5*delError_to_w8\n",
    "    \n",
    "    weight_array.append([w1,w2,w3,w4,w5,w6,w7,w8])\n",
    "    \n",
    "    \n",
    "\n",
    "    \n",
    "    "
   ]
  },
  {
   "cell_type": "code",
   "execution_count": 114,
   "metadata": {},
   "outputs": [
    {
     "data": {
      "text/plain": [
       "[[0.15, 0.2, 0.25, 0.3, 0.4, 0.45, 0.5, 0.55],\n",
       " [0.14959278819901015,\n",
       "  0.19918557639802031,\n",
       "  0.24959375146007964,\n",
       "  0.2991875029201593,\n",
       "  0.31734899374173947,\n",
       "  0.36692945673506544,\n",
       "  0.5224075166484509,\n",
       "  0.5725212580481684],\n",
       " [0.14943757768768798,\n",
       "  0.198875155375376,\n",
       "  0.24943890757667553,\n",
       "  0.29887781515335105,\n",
       "  0.2753539063300097,\n",
       "  0.32472144319559393,\n",
       "  0.5333098187823421,\n",
       "  0.5834788377185506],\n",
       " [0.14931644681584408,\n",
       "  0.1986328936316882,\n",
       "  0.24931806262507775,\n",
       "  0.2986361252501555,\n",
       "  0.23298194503626704,\n",
       "  0.2821347721329942,\n",
       "  0.5440192665229298,\n",
       "  0.5942425530214308],\n",
       " [0.14923058493645006,\n",
       "  0.1984611698729002,\n",
       "  0.24923240330163998,\n",
       "  0.29846480660327995,\n",
       "  0.1902919221739319,\n",
       "  0.23922852782857235,\n",
       "  0.5545416416587837,\n",
       "  0.6048182231188122],\n",
       " [0.1491810085103139,\n",
       "  0.19836201702062786,\n",
       "  0.24918294378392764,\n",
       "  0.29836588756785526,\n",
       "  0.14734758309299317,\n",
       "  0.19606675054317724,\n",
       "  0.5648824950464802,\n",
       "  0.6152114348997518],\n",
       " [0.14916853394026441,\n",
       "  0.19833706788052885,\n",
       "  0.24917049862392127,\n",
       "  0.2983409972478425,\n",
       "  0.10421709521764064,\n",
       "  0.15271792330862016,\n",
       "  0.5750471572505572,\n",
       "  0.6254275536474826],\n",
       " [0.14919375327231033,\n",
       "  0.19838750654462067,\n",
       "  0.24919565850233927,\n",
       "  0.2983913170046785,\n",
       "  0.06097239150822937,\n",
       "  0.1092543124813895,\n",
       "  0.5850407486995055,\n",
       "  0.6354717332173591],\n",
       " [0.14925701393022356,\n",
       "  0.19851402786044717,\n",
       "  0.24925877000806723,\n",
       "  0.29851754001613445,\n",
       "  0.017688378147722554,\n",
       "  0.06575117189839623,\n",
       "  0.594868189377557,\n",
       "  0.6453489257463306],\n",
       " [0.14935840355670785,\n",
       "  0.19871680711341577,\n",
       "  0.2493599205135677,\n",
       "  0.2987198410271354,\n",
       "  -0.025557975652592192,\n",
       "  0.022285828605366785,\n",
       "  0.6045342080714907,\n",
       "  0.655063890914229],\n",
       " [0.14949774085276343,\n",
       "  0.19899548170552694,\n",
       "  0.24949892903595056,\n",
       "  0.2989978580719011,\n",
       "  -0.06868864008088792,\n",
       "  -0.02106332408397829,\n",
       "  0.6140433511908512,\n",
       "  0.6646212047764185],\n",
       " [0.1496745730438546,\n",
       "  0.19934914608770926,\n",
       "  0.2496753437109087,\n",
       "  0.29935068742181736,\n",
       "  -0.11162558708129576,\n",
       "  -0.06421789375163925,\n",
       "  0.623399991178966,\n",
       "  0.6740252681863877],\n",
       " [0.14988818027425072,\n",
       "  0.19977636054850154,\n",
       "  0.24988844618015518,\n",
       "  0.29977689236031035,\n",
       "  -0.15429187548794895,\n",
       "  -0.10710057894633035,\n",
       "  0.6326083345310535,\n",
       "  0.6832803148257531],\n",
       " [0.1501375868658038,\n",
       "  0.2002751737316077,\n",
       "  0.25013726282864396,\n",
       "  0.30027452565728796,\n",
       "  -0.19661271932407967,\n",
       "  -0.14963624237223713,\n",
       "  0.6416724294346311,\n",
       "  0.6923904188579866],\n",
       " [0.15042157900694772,\n",
       "  0.20084315801389555,\n",
       "  0.2504205824381524,\n",
       "  0.30084116487630486,\n",
       "  -0.23851649991478113,\n",
       "  -0.19175292766654828,\n",
       "  0.6505961730464437,\n",
       "  0.7013595022210574],\n",
       " [0.15073872809620698,\n",
       "  0.20147745619241408,\n",
       "  0.2507369794830304,\n",
       "  0.3014739589660609,\n",
       "  -0.27993568548482184,\n",
       "  -0.23338278327130257,\n",
       "  0.6593833184192895,\n",
       "  0.7101913415731608],\n",
       " [0.15108741868336095,\n",
       "  0.20217483736672204,\n",
       "  0.25108484201338815,\n",
       "  0.3021696840267764,\n",
       "  -0.320807627423755,\n",
       "  -0.27446286243900225,\n",
       "  0.6680374810914832,\n",
       "  0.7188895749048444],\n",
       " [0.15146587975463882,\n",
       "  0.2029317595092778,\n",
       "  0.2514624028746631,\n",
       "  0.3029248057493263,\n",
       "  -0.36107520985014246,\n",
       "  -0.31493577589308563,\n",
       "  0.6765621453512557,\n",
       "  0.7274577078301725],\n",
       " [0.15187221800945847,\n",
       "  0.20374443601891706,\n",
       "  0.25186777291388723,\n",
       "  0.3037355458277745,\n",
       "  -0.4006873377516821,\n",
       "  -0.3547501823472075,\n",
       "  0.6849606701881605,\n",
       "  0.7358991195690903],\n",
       " [0.15230445177708138,\n",
       "  0.20460890355416286,\n",
       "  0.2522989748238694,\n",
       "  0.30459794964773895,\n",
       "  -0.4395992579907888,\n",
       "  -0.39386111114010197,\n",
       "  0.6932362949434866,\n",
       "  0.7442170686328577],\n",
       " [0.15276054431293734,\n",
       "  0.2055210886258748,\n",
       "  0.2527539763677335,\n",
       "  0.30550795273546716,\n",
       "  -0.4777727160491345,\n",
       "  -0.4322301198654521,\n",
       "  0.7013921446717407,\n",
       "  0.7524146982242804],\n",
       " [0.15323843537844656,\n",
       "  0.2064768707568932,\n",
       "  0.25323072189001394,\n",
       "  0.306461443780028,\n",
       "  -0.5151759588734321,\n",
       "  -0.4698252973992415,\n",
       "  0.7094312352253955,\n",
       "  0.7604950413644354]]"
      ]
     },
     "execution_count": 114,
     "metadata": {},
     "output_type": "execute_result"
    }
   ],
   "source": [
    "weight_array"
   ]
  },
  {
   "cell_type": "code",
   "execution_count": null,
   "metadata": {},
   "outputs": [],
   "source": [
    "q"
   ]
  }
 ],
 "metadata": {
  "kernelspec": {
   "display_name": "Python 3",
   "language": "python",
   "name": "python3"
  },
  "language_info": {
   "codemirror_mode": {
    "name": "ipython",
    "version": 3
   },
   "file_extension": ".py",
   "mimetype": "text/x-python",
   "name": "python",
   "nbconvert_exporter": "python",
   "pygments_lexer": "ipython3",
   "version": "3.7.2"
  }
 },
 "nbformat": 4,
 "nbformat_minor": 2
}
