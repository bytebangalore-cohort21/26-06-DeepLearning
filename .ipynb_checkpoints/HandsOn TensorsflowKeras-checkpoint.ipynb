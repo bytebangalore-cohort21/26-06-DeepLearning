{
 "cells": [
  {
   "cell_type": "code",
   "execution_count": 66,
   "metadata": {},
   "outputs": [],
   "source": [
    "import tensorflow as tf\n",
    "from tensorflow.keras.datasets import mnist\n",
    "from tensorflow.keras.utils import to_categorical\n",
    "from tensorflow.keras import models\n",
    "from tensorflow.keras import layers\n"
   ]
  },
  {
   "cell_type": "code",
   "execution_count": 67,
   "metadata": {},
   "outputs": [
    {
     "name": "stdout",
     "output_type": "stream",
     "text": [
      "Tensorflow version :  1.14.0\n",
      "TensorFlow Keras Version :  2.2.4-tf\n"
     ]
    }
   ],
   "source": [
    "print(\"Tensorflow version : \", tf.__version__)\n",
    "print(\"TensorFlow Keras Version : \", tf.keras.__version__)"
   ]
  },
  {
   "cell_type": "code",
   "execution_count": 68,
   "metadata": {},
   "outputs": [],
   "source": [
    "(train_images, train_labels), (test_images, test_labels) = mnist.load_data()"
   ]
  },
  {
   "cell_type": "code",
   "execution_count": 69,
   "metadata": {},
   "outputs": [
    {
     "name": "stdout",
     "output_type": "stream",
     "text": [
      "Number of training Images =  60000\n",
      "Number of testing  Images =  10000\n"
     ]
    }
   ],
   "source": [
    "print(\"Number of training Images = \", len(train_images))\n",
    "print(\"Number of testing  Images = \", len(test_images))"
   ]
  },
  {
   "cell_type": "code",
   "execution_count": 70,
   "metadata": {},
   "outputs": [
    {
     "name": "stdout",
     "output_type": "stream",
     "text": [
      "7 9\n"
     ]
    }
   ],
   "source": [
    "print(train_labels[40000],test_labels[4500])"
   ]
  },
  {
   "cell_type": "code",
   "execution_count": 71,
   "metadata": {},
   "outputs": [
    {
     "data": {
      "text/plain": [
       "(28, 28)"
      ]
     },
     "execution_count": 71,
     "metadata": {},
     "output_type": "execute_result"
    }
   ],
   "source": [
    "train_images[40000].shape"
   ]
  },
  {
   "cell_type": "code",
   "execution_count": 72,
   "metadata": {},
   "outputs": [],
   "source": [
    "reshaped_train_images=train_images.reshape((60000,28*28))\n",
    "reshaped_train_images=reshaped_train_images.astype('float32')/255\n",
    "reshaped_test_images=test_images.reshape((10000,28*28))\n",
    "reshaped_test_images=reshaped_test_images.astype('float32')/255\n"
   ]
  },
  {
   "cell_type": "code",
   "execution_count": 73,
   "metadata": {},
   "outputs": [],
   "source": [
    "train_labels=to_categorical(train_labels)\n",
    "test_labels=to_categorical(test_labels)"
   ]
  },
  {
   "cell_type": "code",
   "execution_count": 74,
   "metadata": {},
   "outputs": [],
   "source": [
    "network=models.Sequential()\n",
    "network.add(layers.Dense(512,activation='relu',input_shape=(28*28,)))\n",
    "network.add(layers.Dense(10, activation='softmax'))\n",
    "network.compile(optimizer='rmsprop',loss='categorical_crossentropy',metrics=['accuracy'])"
   ]
  },
  {
   "cell_type": "code",
   "execution_count": 76,
   "metadata": {},
   "outputs": [
    {
     "name": "stdout",
     "output_type": "stream",
     "text": [
      "Epoch 1/12\n",
      "60000/60000 [==============================] - 8s 140us/sample - loss: 0.0887 - acc: 0.9745\n",
      "Epoch 2/12\n",
      "60000/60000 [==============================] - 8s 141us/sample - loss: 0.0645 - acc: 0.9818\n",
      "Epoch 3/12\n",
      "60000/60000 [==============================] - 9s 143us/sample - loss: 0.0508 - acc: 0.9864\n",
      "Epoch 4/12\n",
      "60000/60000 [==============================] - 9s 142us/sample - loss: 0.0414 - acc: 0.9891\n",
      "Epoch 5/12\n",
      "60000/60000 [==============================] - 9s 146us/sample - loss: 0.0319 - acc: 0.9913\n",
      "Epoch 6/12\n",
      "60000/60000 [==============================] - 9s 147us/sample - loss: 0.0269 - acc: 0.9924\n",
      "Epoch 7/12\n",
      "60000/60000 [==============================] - 9s 146us/sample - loss: 0.0224 - acc: 0.9941\n",
      "Epoch 8/12\n",
      "60000/60000 [==============================] - 9s 148us/sample - loss: 0.0185 - acc: 0.9951\n",
      "Epoch 9/12\n",
      "60000/60000 [==============================] - 9s 149us/sample - loss: 0.0147 - acc: 0.9961\n",
      "Epoch 10/12\n",
      "60000/60000 [==============================] - 9s 150us/sample - loss: 0.0118 - acc: 0.9967\n",
      "Epoch 11/12\n",
      "60000/60000 [==============================] - 9s 154us/sample - loss: 0.0094 - acc: 0.9974\n",
      "Epoch 12/12\n",
      "60000/60000 [==============================] - 9s 156us/sample - loss: 0.0080 - acc: 0.9977\n"
     ]
    },
    {
     "data": {
      "text/plain": [
       "<tensorflow.python.keras.callbacks.History at 0x7fee1a5d6208>"
      ]
     },
     "execution_count": 76,
     "metadata": {},
     "output_type": "execute_result"
    }
   ],
   "source": [
    "network.fit(reshaped_train_images,train_labels, epochs=12,batch_size=32)"
   ]
  },
  {
   "cell_type": "code",
   "execution_count": null,
   "metadata": {},
   "outputs": [],
   "source": []
  },
  {
   "cell_type": "code",
   "execution_count": null,
   "metadata": {},
   "outputs": [],
   "source": []
  }
 ],
 "metadata": {
  "kernelspec": {
   "display_name": "Python 3",
   "language": "python",
   "name": "python3"
  },
  "language_info": {
   "codemirror_mode": {
    "name": "ipython",
    "version": 3
   },
   "file_extension": ".py",
   "mimetype": "text/x-python",
   "name": "python",
   "nbconvert_exporter": "python",
   "pygments_lexer": "ipython3",
   "version": "3.7.2"
  }
 },
 "nbformat": 4,
 "nbformat_minor": 2
}
