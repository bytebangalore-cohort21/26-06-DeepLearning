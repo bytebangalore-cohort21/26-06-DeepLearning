{
 "cells": [
  {
   "cell_type": "markdown",
   "metadata": {},
   "source": [
    "## Training a MLP\n",
    "\n",
    "Here, we will build a 3-layer neural network with one input layer, one hidden layer, and one output layer. The number of nodes in the input layer is determined by the dimensionality of our data. Similarly, the number of nodes in the output layer is determined by the number of classes we have We have already worked with MNIST data set before and hope you are familiar with dataset. Lets train our network for the same\n",
    "\n",
    "Exercise 1 : Load the dataset and print the dimension of the networks you are going to use\n",
    "\n",
    "Exercise 2 : Split the data set into test and training sets and create a MLP classifier.Calculate the accuracy\n",
    "\n",
    "Exercise 3 : Change the activation functions, solver and learning rate and hidden layers to check the accuracy\n",
    "\n",
    "Exercise 4 : Do validation on any one set of hyperparameters."
   ]
  },
  {
   "cell_type": "code",
   "execution_count": 34,
   "metadata": {},
   "outputs": [],
   "source": [
    "from keras.datasets import mnist\n",
    "from keras.utils import to_categorical\n",
    "from keras import models\n",
    "from keras import layers\n",
    "\n",
    "import pandas as pd\n",
    "import numpy as np\n",
    "import matplotlib.pyplot as plt \n"
   ]
  },
  {
   "cell_type": "code",
   "execution_count": 30,
   "metadata": {},
   "outputs": [],
   "source": [
    "(train_images, train_labels), (test_images, test_labels) = mnist.load_data()"
   ]
  },
  {
   "cell_type": "code",
   "execution_count": 35,
   "metadata": {},
   "outputs": [],
   "source": [
    "train_images=train_images.reshape((60000,28*28))\n",
    "train_images=train_images.astype('float32')/255\n",
    "\n",
    "test_images=test_images.reshape((10000,28*28))\n",
    "test_images=test_images.astype('float32')/255\n",
    "\n",
    "train_labels=to_categorical(train_labels)\n",
    "test_labels=to_categorical(test_labels)"
   ]
  },
  {
   "cell_type": "code",
   "execution_count": 36,
   "metadata": {},
   "outputs": [],
   "source": [
    "network=models.Sequential()\n",
    "network.add(layers.Dense(512,activation='relu',input_shape=(28*28,)))\n",
    "network.add(layers.Dense(10, activation='softmax'))\n",
    "network.compile(optimizer='rmsprop',loss='categorical_crossentropy',metrics=['accuracy'])"
   ]
  },
  {
   "cell_type": "code",
   "execution_count": 49,
   "metadata": {},
   "outputs": [
    {
     "name": "stdout",
     "output_type": "stream",
     "text": [
      "Epoch 1/12\n",
      "60000/60000 [==============================] - 12s 197us/step - loss: 0.0204 - acc: 0.9951\n",
      "Epoch 2/12\n",
      "60000/60000 [==============================] - 12s 207us/step - loss: 0.0207 - acc: 0.9951\n",
      "Epoch 3/12\n",
      "60000/60000 [==============================] - 12s 204us/step - loss: 0.0205 - acc: 0.9951\n",
      "Epoch 4/12\n",
      "60000/60000 [==============================] - 12s 198us/step - loss: 0.0202 - acc: 0.9951\n",
      "Epoch 5/12\n",
      "60000/60000 [==============================] - 11s 191us/step - loss: 0.0198 - acc: 0.9949\n",
      "Epoch 6/12\n",
      "60000/60000 [==============================] - 12s 204us/step - loss: 0.0193 - acc: 0.9954\n",
      "Epoch 7/12\n",
      "60000/60000 [==============================] - 13s 210us/step - loss: 0.0194 - acc: 0.9952\n",
      "Epoch 8/12\n",
      "60000/60000 [==============================] - 12s 204us/step - loss: 0.0189 - acc: 0.9954\n",
      "Epoch 9/12\n",
      "60000/60000 [==============================] - 12s 197us/step - loss: 0.0186 - acc: 0.9953\n",
      "Epoch 10/12\n",
      "60000/60000 [==============================] - 13s 213us/step - loss: 0.0184 - acc: 0.9959\n",
      "Epoch 11/12\n",
      "60000/60000 [==============================] - 12s 193us/step - loss: 0.0180 - acc: 0.9956\n",
      "Epoch 12/12\n",
      "60000/60000 [==============================] - 12s 196us/step - loss: 0.0180 - acc: 0.9956\n"
     ]
    },
    {
     "data": {
      "text/plain": [
       "<keras.callbacks.History at 0x7fb6a952e7b8>"
      ]
     },
     "execution_count": 49,
     "metadata": {},
     "output_type": "execute_result"
    }
   ],
   "source": [
    "network.fit(train_images,train_labels, epochs=12,batch_size=32)"
   ]
  },
  {
   "cell_type": "code",
   "execution_count": 50,
   "metadata": {},
   "outputs": [
    {
     "name": "stdout",
     "output_type": "stream",
     "text": [
      "10000/10000 [==============================] - 1s 53us/step\n",
      "test accuracy: 0.9798\n"
     ]
    }
   ],
   "source": [
    "test_loss,test_acc=network.evaluate(test_images,test_labels)\n",
    "print('test accuracy:',test_acc)"
   ]
  },
  {
   "cell_type": "code",
   "execution_count": null,
   "metadata": {},
   "outputs": [],
   "source": []
  }
 ],
 "metadata": {
  "kernelspec": {
   "display_name": "Python 3",
   "language": "python",
   "name": "python3"
  },
  "language_info": {
   "codemirror_mode": {
    "name": "ipython",
    "version": 3
   },
   "file_extension": ".py",
   "mimetype": "text/x-python",
   "name": "python",
   "nbconvert_exporter": "python",
   "pygments_lexer": "ipython3",
   "version": "3.6.4"
  }
 },
 "nbformat": 4,
 "nbformat_minor": 2
}
